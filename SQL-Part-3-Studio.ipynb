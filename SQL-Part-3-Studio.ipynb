{
    "metadata": {
        "kernelspec": {
            "name": "SQL",
            "display_name": "SQL",
            "language": "sql"
        },
        "language_info": {
            "name": "sql",
            "version": ""
        },
        "extensions": {
            "azuredatastudio": {
                "version": 1,
                "views": []
            }
        }
    },
    "nbformat_minor": 2,
    "nbformat": 4,
    "cells": [
        {
            "cell_type": "markdown",
            "source": [
                "# SQL Part 3 Studio\n",
                "\n",
                "### Let's practice your SQL quering skills!  For each question, work along in the notebook adding your query and answering the questions. \n",
                "\n",
                "### **DataSet**\n",
                "\n",
                "### <span style=\"font-size: 14px; font-family: -apple-system, BlinkMacSystemFont, sans-serif;\">We will be using the Goodbooks-10k dataset from the exercises in the prep work.&nbsp; Feel free reference your previous notebooks.</span>\n",
                "\n",
                "- The dataset can be found here: [goodbooks-10k](https://www.kaggle.com/zygmunt/goodbooks-10k)\n",
                "- You can access the **BooksDB** in the Launchcode server.\n",
                "\n",
                "### **Business Issue**\n",
                "\n",
                "You are an employee at a small independet bookstore and you have been tasked to increase sales.  You decide to use the BooksDB to find books and themes to highlight in fun promotions throughout each month / season.  We will be starting with March and then you will have a chance to explore another month of your choosing.  We want to come up with a list of events/ promotions to run each month.  If you are looking for ideas to include in your promotions:\n",
                "\n",
                "- [https://www.calendarr.com/united-states/calendar-2022/](https://www.calendarr.com/united-states/calendar-2022/)\n",
                "- [https://www.holidayinsights.com/moreholidays/](https://www.holidayinsights.com/moreholidays/)\n",
                "    - Click on a month and it will take you to a more detailed page"
            ],
            "metadata": {
                "azdata_cell_guid": "b9034d8a-b631-48bf-a895-1012a6ffa784"
            },
            "attachments": {}
        },
        {
            "cell_type": "markdown",
            "source": [
                "## Part 1:  March - Women's History Month, Dr Seuss Day(3/2), National Pie Day3/14, St Patrick's Day (3/17), Season - Spring"
            ],
            "metadata": {
                "azdata_cell_guid": "6e55eb1c-4a14-4076-90d2-95ed17a6309f"
            },
            "attachments": {}
        },
        {
            "cell_type": "markdown",
            "source": [
                "### **Event 1:** Women's History Month\n",
                "\n",
                "Goal: Highlight Popular Womans Authors based on ratings from the Good Reads DB.\n",
                "\n",
                "### **Write a query that returns tag\\_id, the number of times each tag\\_id is used and the tag\\_name.**  \n",
                "\n",
                "### Use the GROUP BY and HAVING clause to narrow your focus.\n",
                "\n",
                "Try multiple keywords, ie woman vs female (female ended up giving better results)"
            ],
            "metadata": {
                "azdata_cell_guid": "d220c097-e9cf-4edd-9abe-312d071217b7"
            },
            "attachments": {}
        },
        {
            "cell_type": "code",
            "source": [
                "-- Solution\r\n",
                "SELECT TOP 10 booktag.tag_id AS TagID, tag.tag_name AS TagName, COUNT(booktag.count) AS Count\r\n",
                "FROM BooksDB.dbo.book_tags as booktag\r\n",
                "INNER JOIN BooksDB.dbo.tags as tag ON tag.tag_id = booktag.tag_id\r\n",
                "GROUP BY booktag.tag_id, tag.tag_name\r\n",
                "HAVING tag.tag_name LIKE '%women%'\r\n",
                "ORDER BY Count DESC;\r\n",
                ""
            ],
            "metadata": {
                "azdata_cell_guid": "e31b9d26-0386-44c7-828e-85f4f06f3ee6",
                "language": "sql"
            },
            "outputs": [
                {
                    "output_type": "display_data",
                    "data": {
                        "text/html": "(10 rows affected)"
                    },
                    "metadata": {}
                },
                {
                    "output_type": "display_data",
                    "data": {
                        "text/html": "Total execution time: 00:00:00.244"
                    },
                    "metadata": {}
                },
                {
                    "output_type": "execute_result",
                    "metadata": {},
                    "execution_count": 43,
                    "data": {
                        "application/vnd.dataresource+json": {
                            "schema": {
                                "fields": [
                                    {
                                        "name": "TagID"
                                    },
                                    {
                                        "name": "TagName"
                                    },
                                    {
                                        "name": "Count"
                                    }
                                ]
                            },
                            "data": [
                                {
                                    "0": "32686",
                                    "1": "women",
                                    "2": "1062"
                                },
                                {
                                    "0": "32708",
                                    "1": "women-s-fiction",
                                    "2": "438"
                                },
                                {
                                    "0": "32724",
                                    "1": "women-writers",
                                    "2": "373"
                                },
                                {
                                    "0": "32726",
                                    "1": "womens-fiction",
                                    "2": "368"
                                },
                                {
                                    "0": "32688",
                                    "1": "women-authors",
                                    "2": "324"
                                },
                                {
                                    "0": "28839",
                                    "1": "strong-women",
                                    "2": "71"
                                },
                                {
                                    "0": "32720",
                                    "1": "women-s-studies",
                                    "2": "30"
                                },
                                {
                                    "0": "32735",
                                    "1": "womens-studies",
                                    "2": "21"
                                },
                                {
                                    "0": "32717",
                                    "1": "women-s-murder-club-series",
                                    "2": "15"
                                },
                                {
                                    "0": "16122",
                                    "1": "james-patterson-women-s-murder-club",
                                    "2": "15"
                                }
                            ]
                        },
                        "text/html": [
                            "<table>",
                            "<tr><th>TagID</th><th>TagName</th><th>Count</th></tr>",
                            "<tr><td>32686</td><td>women</td><td>1062</td></tr>",
                            "<tr><td>32708</td><td>women-s-fiction</td><td>438</td></tr>",
                            "<tr><td>32724</td><td>women-writers</td><td>373</td></tr>",
                            "<tr><td>32726</td><td>womens-fiction</td><td>368</td></tr>",
                            "<tr><td>32688</td><td>women-authors</td><td>324</td></tr>",
                            "<tr><td>28839</td><td>strong-women</td><td>71</td></tr>",
                            "<tr><td>32720</td><td>women-s-studies</td><td>30</td></tr>",
                            "<tr><td>32735</td><td>womens-studies</td><td>21</td></tr>",
                            "<tr><td>32717</td><td>women-s-murder-club-series</td><td>15</td></tr>",
                            "<tr><td>16122</td><td>james-patterson-women-s-murder-club</td><td>15</td></tr>",
                            "</table>"
                        ]
                    }
                }
            ],
            "execution_count": 43
        },
        {
            "cell_type": "markdown",
            "source": [
                "### **Which keyword(s) and tag(s) would you like to explore more?**\n",
                "\n",
                "Double click to edit."
            ],
            "metadata": {
                "azdata_cell_guid": "e9acd8b5-a62b-4ac0-bd07-19915b379ba6"
            },
            "attachments": {}
        },
        {
            "cell_type": "markdown",
            "source": [
                "### **Write a query to return authors, titles, ratings and** **selected tag(s)\\_id.**"
            ],
            "metadata": {
                "azdata_cell_guid": "59b84464-c0bc-4dac-9e02-0c803765b063"
            },
            "attachments": {}
        },
        {
            "cell_type": "code",
            "source": [
                "-- Solution\r\n",
                "SELECT TOP 10 books.authors, books.title, books.average_rating, tags.tag_id\r\n",
                "FROM BooksDB.dbo.books as books\r\n",
                "JOIN BooksDB.dbo.book_tags as tags ON books.best_book_id = tags.goodreads_book_id\r\n",
                "WHERE tags.tag_id LIKE '32717'\r\n",
                "ORDER BY tags.tag_id, books.average_rating DESC;\r\n",
                ""
            ],
            "metadata": {
                "azdata_cell_guid": "51ffeaaf-6dde-4906-95f3-eb8757babf27",
                "tags": [],
                "language": "sql"
            },
            "outputs": [
                {
                    "output_type": "display_data",
                    "data": {
                        "text/html": "(10 rows affected)"
                    },
                    "metadata": {}
                },
                {
                    "output_type": "display_data",
                    "data": {
                        "text/html": "Total execution time: 00:00:00.271"
                    },
                    "metadata": {}
                },
                {
                    "output_type": "execute_result",
                    "metadata": {},
                    "execution_count": 59,
                    "data": {
                        "application/vnd.dataresource+json": {
                            "schema": {
                                "fields": [
                                    {
                                        "name": "authors"
                                    },
                                    {
                                        "name": "title"
                                    },
                                    {
                                        "name": "average_rating"
                                    },
                                    {
                                        "name": "tag_id"
                                    }
                                ]
                            },
                            "data": [
                                {
                                    "0": "James Patterson, Maxine Paetro",
                                    "1": "The 9th Judgment  (Women's Murder Club, #9)",
                                    "2": "4.08",
                                    "3": "32717"
                                },
                                {
                                    "0": "James Patterson, Maxine Paetro",
                                    "1": "7th Heaven (Women's Murder Club, #7)",
                                    "2": "4.06",
                                    "3": "32717"
                                },
                                {
                                    "0": "James Patterson, Maxine Paetro",
                                    "1": "10th Anniversary (Women's Murder Club, #10)",
                                    "2": "4.05",
                                    "3": "32717"
                                },
                                {
                                    "0": "James Patterson",
                                    "1": "1st to Die (Women's Murder Club, #1)",
                                    "2": "4.05",
                                    "3": "32717"
                                },
                                {
                                    "0": "James Patterson, Maxine Paetro",
                                    "1": "4th of July (Women's Murder Club, #4)",
                                    "2": "4.04",
                                    "3": "32717"
                                },
                                {
                                    "0": "James Patterson, Maxine Paetro",
                                    "1": "15th Affair (Women's Murder Club #15)",
                                    "2": "4.04",
                                    "3": "32717"
                                },
                                {
                                    "0": "James Patterson, Maxine Paetro",
                                    "1": "The 5th Horseman (Women's Murder Club, #5)",
                                    "2": "4.03",
                                    "3": "32717"
                                },
                                {
                                    "0": "James Patterson, Maxine Paetro",
                                    "1": "11th Hour (Women's Murder Club, #11)",
                                    "2": "4.02",
                                    "3": "32717"
                                },
                                {
                                    "0": "James Patterson, Maxine Paetro",
                                    "1": "The 6th Target (Women's Murder Club, #6)",
                                    "2": "4.02",
                                    "3": "32717"
                                },
                                {
                                    "0": "James Patterson, Maxine Paetro",
                                    "1": "The 8th Confession (Women's Murder Club, #8)",
                                    "2": "4.02",
                                    "3": "32717"
                                }
                            ]
                        },
                        "text/html": [
                            "<table>",
                            "<tr><th>authors</th><th>title</th><th>average_rating</th><th>tag_id</th></tr>",
                            "<tr><td>James Patterson, Maxine Paetro</td><td>The 9th Judgment  (Women's Murder Club, #9)</td><td>4.08</td><td>32717</td></tr>",
                            "<tr><td>James Patterson, Maxine Paetro</td><td>7th Heaven (Women's Murder Club, #7)</td><td>4.06</td><td>32717</td></tr>",
                            "<tr><td>James Patterson, Maxine Paetro</td><td>10th Anniversary (Women's Murder Club, #10)</td><td>4.05</td><td>32717</td></tr>",
                            "<tr><td>James Patterson</td><td>1st to Die (Women's Murder Club, #1)</td><td>4.05</td><td>32717</td></tr>",
                            "<tr><td>James Patterson, Maxine Paetro</td><td>4th of July (Women's Murder Club, #4)</td><td>4.04</td><td>32717</td></tr>",
                            "<tr><td>James Patterson, Maxine Paetro</td><td>15th Affair (Women's Murder Club #15)</td><td>4.04</td><td>32717</td></tr>",
                            "<tr><td>James Patterson, Maxine Paetro</td><td>The 5th Horseman (Women's Murder Club, #5)</td><td>4.03</td><td>32717</td></tr>",
                            "<tr><td>James Patterson, Maxine Paetro</td><td>11th Hour (Women's Murder Club, #11)</td><td>4.02</td><td>32717</td></tr>",
                            "<tr><td>James Patterson, Maxine Paetro</td><td>The 6th Target (Women's Murder Club, #6)</td><td>4.02</td><td>32717</td></tr>",
                            "<tr><td>James Patterson, Maxine Paetro</td><td>The 8th Confession (Women's Murder Club, #8)</td><td>4.02</td><td>32717</td></tr>",
                            "</table>"
                        ]
                    }
                }
            ],
            "execution_count": 59
        },
        {
            "cell_type": "markdown",
            "source": [
                "### **Record your thoughts about why you wrote the query the way you did.**"
            ],
            "metadata": {
                "azdata_cell_guid": "1e19a72c-1bca-446b-a0c7-a8efbc35dcf1"
            },
            "attachments": {}
        },
        {
            "cell_type": "markdown",
            "source": [
                "# Part 2: Choose Another Month\n",
                "\n",
                "Choose another month and plan at least 2 events / promotions and answer the following questions.\n",
                "\n",
                "Which month did you choose?  October\n",
                "\n",
                "What 2 events / promotions are you highlighting?\n",
                "\n",
                "> 1. Halloween/Horror stories\n",
                "\n",
                "> 2. indigenous peoples day"
            ],
            "metadata": {
                "azdata_cell_guid": "3eaf376d-9de3-4553-a9d0-9caf74ee3d6a"
            },
            "attachments": {}
        },
        {
            "cell_type": "markdown",
            "source": [
                "# Part 3: Summarize your Work\n",
                "\n",
                "For each event write at least one query that joins any two tables in the BooksDB to support your choice and record you thoughts as to why you used the paticlular query. At least one of your queries needs to include a HAVING clause."
            ],
            "metadata": {
                "azdata_cell_guid": "1ba1363a-4f02-4962-a95a-93b80c5926b1"
            },
            "attachments": {}
        },
        {
            "cell_type": "code",
            "source": [
                "-- Event 1 Query\r\n",
                "SELECT TOP 10 booktag.tag_id AS TagID, tag.tag_name AS TagName, COUNT(booktag.count) AS Count\r\n",
                "FROM BooksDB.dbo.book_tags as booktag\r\n",
                "INNER JOIN BooksDB.dbo.tags as tag ON tag.tag_id = booktag.tag_id\r\n",
                "GROUP BY booktag.tag_id, tag.tag_name\r\n",
                "HAVING tag.tag_name LIKE '%Halloween%'\r\n",
                "ORDER BY Count DESC;\r\n",
                "\r\n",
                "SELECT TOP 10 books.authors, books.title, books.average_rating, tags.tag_id\r\n",
                "FROM BooksDB.dbo.books as books\r\n",
                "JOIN BooksDB.dbo.book_tags as tags ON books.best_book_id = tags.goodreads_book_id\r\n",
                "WHERE tags.tag_id LIKE '13873'\r\n",
                "ORDER BY books.average_rating DESC;"
            ],
            "metadata": {
                "azdata_cell_guid": "f50d32ce-4cb2-4af2-acb1-607777a76cf8",
                "language": "sql"
            },
            "outputs": [
                {
                    "output_type": "display_data",
                    "data": {
                        "text/html": "(8 rows affected)"
                    },
                    "metadata": {}
                },
                {
                    "output_type": "display_data",
                    "data": {
                        "text/html": "(10 rows affected)"
                    },
                    "metadata": {}
                },
                {
                    "output_type": "display_data",
                    "data": {
                        "text/html": "Total execution time: 00:00:00.427"
                    },
                    "metadata": {}
                },
                {
                    "output_type": "execute_result",
                    "metadata": {},
                    "execution_count": 55,
                    "data": {
                        "application/vnd.dataresource+json": {
                            "schema": {
                                "fields": [
                                    {
                                        "name": "TagID"
                                    },
                                    {
                                        "name": "TagName"
                                    },
                                    {
                                        "name": "Count"
                                    }
                                ]
                            },
                            "data": [
                                {
                                    "0": "13873",
                                    "1": "halloween",
                                    "2": "63"
                                },
                                {
                                    "0": "13876",
                                    "1": "halloween-reads",
                                    "2": "6"
                                },
                                {
                                    "0": "13874",
                                    "1": "halloween-books",
                                    "2": "2"
                                },
                                {
                                    "0": "13875",
                                    "1": "halloween-reading",
                                    "2": "1"
                                },
                                {
                                    "0": "13877",
                                    "1": "halloween-storytime",
                                    "2": "1"
                                },
                                {
                                    "0": "14698",
                                    "1": "holiday-halloween",
                                    "2": "1"
                                },
                                {
                                    "0": "28416",
                                    "1": "spooky-reads-for-halloween",
                                    "2": "1"
                                },
                                {
                                    "0": "14706",
                                    "1": "holidays-halloween",
                                    "2": "1"
                                }
                            ]
                        },
                        "text/html": [
                            "<table>",
                            "<tr><th>TagID</th><th>TagName</th><th>Count</th></tr>",
                            "<tr><td>13873</td><td>halloween</td><td>63</td></tr>",
                            "<tr><td>13876</td><td>halloween-reads</td><td>6</td></tr>",
                            "<tr><td>13874</td><td>halloween-books</td><td>2</td></tr>",
                            "<tr><td>13875</td><td>halloween-reading</td><td>1</td></tr>",
                            "<tr><td>13877</td><td>halloween-storytime</td><td>1</td></tr>",
                            "<tr><td>14698</td><td>holiday-halloween</td><td>1</td></tr>",
                            "<tr><td>28416</td><td>spooky-reads-for-halloween</td><td>1</td></tr>",
                            "<tr><td>14706</td><td>holidays-halloween</td><td>1</td></tr>",
                            "</table>"
                        ]
                    }
                },
                {
                    "output_type": "execute_result",
                    "metadata": {},
                    "execution_count": 55,
                    "data": {
                        "application/vnd.dataresource+json": {
                            "schema": {
                                "fields": [
                                    {
                                        "name": "authors"
                                    },
                                    {
                                        "name": "title"
                                    },
                                    {
                                        "name": "average_rating"
                                    },
                                    {
                                        "name": "tag_id"
                                    }
                                ]
                            },
                            "data": [
                                {
                                    "0": "Edgar Allan Poe",
                                    "1": "The Complete Stories and Poems",
                                    "2": "4.37",
                                    "3": "13873"
                                },
                                {
                                    "0": "H.P. Lovecraft, August Derleth, Robert Bloch",
                                    "1": "The Best of H.P. Lovecraft: Bloodcurdling Tales of Horror and the Macabre",
                                    "2": "4.31",
                                    "3": "13873"
                                },
                                {
                                    "0": "Edgar Allan Poe, Philip Pullman",
                                    "1": "The Raven and other poems",
                                    "2": "4.3",
                                    "3": "13873"
                                },
                                {
                                    "0": "Jeph Loeb, Tim Sale, Gregory Wright, Richard Starkings",
                                    "1": "Batman: The Long Halloween",
                                    "2": "4.29",
                                    "3": "13873"
                                },
                                {
                                    "0": "Rachel Renée Russell",
                                    "1": "Tales from a Not-So-Popular Party Girl (Dork Diaries, #2)",
                                    "2": "4.28",
                                    "3": "13873"
                                },
                                {
                                    "0": "H.P. Lovecraft, S.T. Joshi",
                                    "1": "The Call of Cthulhu and Other Weird Stories",
                                    "2": "4.25",
                                    "3": "13873"
                                },
                                {
                                    "0": "Linda Williams, Megan Lloyd",
                                    "1": "The Little Old Lady Who Was Not Afraid of Anything",
                                    "2": "4.25",
                                    "3": "13873"
                                },
                                {
                                    "0": "Judy Schachner",
                                    "1": "Skippyjon Jones in Mummy Trouble (Skippyjon Jones, #3)",
                                    "2": "4.25",
                                    "3": "13873"
                                },
                                {
                                    "0": "Edward Gorey",
                                    "1": "The Gashlycrumb Tinies (The Vinegar Works, #1)",
                                    "2": "4.23",
                                    "3": "13873"
                                },
                                {
                                    "0": "Mercer Mayer",
                                    "1": "There's a Nightmare in My Closet",
                                    "2": "4.22",
                                    "3": "13873"
                                }
                            ]
                        },
                        "text/html": [
                            "<table>",
                            "<tr><th>authors</th><th>title</th><th>average_rating</th><th>tag_id</th></tr>",
                            "<tr><td>Edgar Allan Poe</td><td>The Complete Stories and Poems</td><td>4.37</td><td>13873</td></tr>",
                            "<tr><td>H.P. Lovecraft, August Derleth, Robert Bloch</td><td>The Best of H.P. Lovecraft: Bloodcurdling Tales of Horror and the Macabre</td><td>4.31</td><td>13873</td></tr>",
                            "<tr><td>Edgar Allan Poe, Philip Pullman</td><td>The Raven and other poems</td><td>4.3</td><td>13873</td></tr>",
                            "<tr><td>Jeph Loeb, Tim Sale, Gregory Wright, Richard Starkings</td><td>Batman: The Long Halloween</td><td>4.29</td><td>13873</td></tr>",
                            "<tr><td>Rachel Renée Russell</td><td>Tales from a Not-So-Popular Party Girl (Dork Diaries, #2)</td><td>4.28</td><td>13873</td></tr>",
                            "<tr><td>H.P. Lovecraft, S.T. Joshi</td><td>The Call of Cthulhu and Other Weird Stories</td><td>4.25</td><td>13873</td></tr>",
                            "<tr><td>Linda Williams, Megan Lloyd</td><td>The Little Old Lady Who Was Not Afraid of Anything</td><td>4.25</td><td>13873</td></tr>",
                            "<tr><td>Judy Schachner</td><td>Skippyjon Jones in Mummy Trouble (Skippyjon Jones, #3)</td><td>4.25</td><td>13873</td></tr>",
                            "<tr><td>Edward Gorey</td><td>The Gashlycrumb Tinies (The Vinegar Works, #1)</td><td>4.23</td><td>13873</td></tr>",
                            "<tr><td>Mercer Mayer</td><td>There's a Nightmare in My Closet</td><td>4.22</td><td>13873</td></tr>",
                            "</table>"
                        ]
                    }
                }
            ],
            "execution_count": 55
        },
        {
            "cell_type": "code",
            "source": [
                ""
            ],
            "metadata": {
                "azdata_cell_guid": "5606f7f2-c46b-42d3-ac64-7ae21c3394f8",
                "language": "sql"
            },
            "outputs": [
                {
                    "output_type": "display_data",
                    "data": {
                        "text/html": "Commands completed successfully."
                    },
                    "metadata": {}
                },
                {
                    "output_type": "display_data",
                    "data": {
                        "text/html": "Total execution time: 00:00:00"
                    },
                    "metadata": {}
                }
            ],
            "execution_count": 56
        },
        {
            "cell_type": "markdown",
            "source": [
                "### **Summary of event 1:**\n",
                "\n",
                "For Halloween, I propose that we have a sale on the most tagged book (Edgar Allen Poe's A Collection of Short Stories) and read some of the stories on Halloween night as like a fun, spooky story time event at the book store."
            ],
            "metadata": {
                "azdata_cell_guid": "3bc72d4c-077b-42d3-9528-9aff8e7b6cf3"
            },
            "attachments": {}
        },
        {
            "cell_type": "code",
            "source": [
                "-- Event 2 Query\r\n",
                "SELECT TOP 10 booktag.tag_id AS TagID, tag.tag_name AS TagName, COUNT(booktag.count) AS Count\r\n",
                "FROM BooksDB.dbo.book_tags as booktag\r\n",
                "INNER JOIN BooksDB.dbo.tags as tag ON tag.tag_id = booktag.tag_id\r\n",
                "GROUP BY booktag.tag_id, tag.tag_name\r\n",
                "HAVING tag.tag_name LIKE '%native%'\r\n",
                "ORDER BY Count DESC;\r\n",
                "\r\n",
                "SELECT TOP 10 books.authors, books.title, books.average_rating, tags.tag_id\r\n",
                "FROM BooksDB.dbo.books as books\r\n",
                "JOIN BooksDB.dbo.book_tags as tags ON books.best_book_id = tags.goodreads_book_id\r\n",
                "WHERE tags.tag_id LIKE '21166'\r\n",
                "ORDER BY books.average_rating DESC;"
            ],
            "metadata": {
                "azdata_cell_guid": "dca0a98f-065f-4b0e-9d93-fcb01cad668c",
                "language": "sql"
            },
            "outputs": [
                {
                    "output_type": "display_data",
                    "data": {
                        "text/html": "(10 rows affected)"
                    },
                    "metadata": {}
                },
                {
                    "output_type": "display_data",
                    "data": {
                        "text/html": "(10 rows affected)"
                    },
                    "metadata": {}
                },
                {
                    "output_type": "display_data",
                    "data": {
                        "text/html": "Total execution time: 00:00:00.442"
                    },
                    "metadata": {}
                },
                {
                    "output_type": "execute_result",
                    "metadata": {},
                    "execution_count": 57,
                    "data": {
                        "application/vnd.dataresource+json": {
                            "schema": {
                                "fields": [
                                    {
                                        "name": "TagID"
                                    },
                                    {
                                        "name": "TagName"
                                    },
                                    {
                                        "name": "Count"
                                    }
                                ]
                            },
                            "data": [
                                {
                                    "0": "21166",
                                    "1": "native-american",
                                    "2": "71"
                                },
                                {
                                    "0": "2186",
                                    "1": "alternative-history",
                                    "2": "51"
                                },
                                {
                                    "0": "21175",
                                    "1": "native-americans",
                                    "2": "37"
                                },
                                {
                                    "0": "21163",
                                    "1": "native",
                                    "2": "28"
                                },
                                {
                                    "0": "21172",
                                    "1": "native-american-lit",
                                    "2": "11"
                                },
                                {
                                    "0": "21173",
                                    "1": "native-american-literature",
                                    "2": "9"
                                },
                                {
                                    "0": "21169",
                                    "1": "native-american-fiction",
                                    "2": "7"
                                },
                                {
                                    "0": "21165",
                                    "1": "native-america",
                                    "2": "5"
                                },
                                {
                                    "0": "11806",
                                    "1": "fiction-native-american",
                                    "2": "4"
                                },
                                {
                                    "0": "21170",
                                    "1": "native-american-history",
                                    "2": "4"
                                }
                            ]
                        },
                        "text/html": [
                            "<table>",
                            "<tr><th>TagID</th><th>TagName</th><th>Count</th></tr>",
                            "<tr><td>21166</td><td>native-american</td><td>71</td></tr>",
                            "<tr><td>2186</td><td>alternative-history</td><td>51</td></tr>",
                            "<tr><td>21175</td><td>native-americans</td><td>37</td></tr>",
                            "<tr><td>21163</td><td>native</td><td>28</td></tr>",
                            "<tr><td>21172</td><td>native-american-lit</td><td>11</td></tr>",
                            "<tr><td>21173</td><td>native-american-literature</td><td>9</td></tr>",
                            "<tr><td>21169</td><td>native-american-fiction</td><td>7</td></tr>",
                            "<tr><td>21165</td><td>native-america</td><td>5</td></tr>",
                            "<tr><td>11806</td><td>fiction-native-american</td><td>4</td></tr>",
                            "<tr><td>21170</td><td>native-american-history</td><td>4</td></tr>",
                            "</table>"
                        ]
                    }
                },
                {
                    "output_type": "execute_result",
                    "metadata": {},
                    "execution_count": 57,
                    "data": {
                        "application/vnd.dataresource+json": {
                            "schema": {
                                "fields": [
                                    {
                                        "name": "authors"
                                    },
                                    {
                                        "name": "title"
                                    },
                                    {
                                        "name": "average_rating"
                                    },
                                    {
                                        "name": "tag_id"
                                    }
                                ]
                            },
                            "data": [
                                {
                                    "0": "Patricia Briggs",
                                    "1": "Night Broken (Mercy Thompson, #8)",
                                    "2": "4.42",
                                    "3": "21166"
                                },
                                {
                                    "0": "Patricia Briggs",
                                    "1": "Fire Touched (Mercy Thompson, #9)",
                                    "2": "4.35",
                                    "3": "21166"
                                },
                                {
                                    "0": "Patricia Briggs",
                                    "1": "Fair Game (Alpha & Omega, #3)",
                                    "2": "4.34",
                                    "3": "21166"
                                },
                                {
                                    "0": "Joseph Boyden",
                                    "1": "Three Day Road",
                                    "2": "4.31",
                                    "3": "21166"
                                },
                                {
                                    "0": "Sara Donati",
                                    "1": "Lake in the Clouds (Wilderness, #3)",
                                    "2": "4.31",
                                    "3": "21166"
                                },
                                {
                                    "0": "Patricia Briggs",
                                    "1": "Hunting Ground (Alpha & Omega, #2)",
                                    "2": "4.27",
                                    "3": "21166"
                                },
                                {
                                    "0": "Patricia Briggs",
                                    "1": "Dead Heat (Alpha & Omega #4)",
                                    "2": "4.27",
                                    "3": "21166"
                                },
                                {
                                    "0": "Patricia Briggs",
                                    "1": "River Marked (Mercy Thompson, #6)",
                                    "2": "4.26",
                                    "3": "21166"
                                },
                                {
                                    "0": "Ted Andrews, Winston Allen, Margaret K. Andrews",
                                    "1": "Animal-Speak: The Spiritual & Magical Powers of Creatures Great & Small",
                                    "2": "4.25",
                                    "3": "21166"
                                },
                                {
                                    "0": "Joseph Boyden",
                                    "1": "The Orenda",
                                    "2": "4.24",
                                    "3": "21166"
                                }
                            ]
                        },
                        "text/html": [
                            "<table>",
                            "<tr><th>authors</th><th>title</th><th>average_rating</th><th>tag_id</th></tr>",
                            "<tr><td>Patricia Briggs</td><td>Night Broken (Mercy Thompson, #8)</td><td>4.42</td><td>21166</td></tr>",
                            "<tr><td>Patricia Briggs</td><td>Fire Touched (Mercy Thompson, #9)</td><td>4.35</td><td>21166</td></tr>",
                            "<tr><td>Patricia Briggs</td><td>Fair Game (Alpha &amp; Omega, #3)</td><td>4.34</td><td>21166</td></tr>",
                            "<tr><td>Joseph Boyden</td><td>Three Day Road</td><td>4.31</td><td>21166</td></tr>",
                            "<tr><td>Sara Donati</td><td>Lake in the Clouds (Wilderness, #3)</td><td>4.31</td><td>21166</td></tr>",
                            "<tr><td>Patricia Briggs</td><td>Hunting Ground (Alpha &amp; Omega, #2)</td><td>4.27</td><td>21166</td></tr>",
                            "<tr><td>Patricia Briggs</td><td>Dead Heat (Alpha &amp; Omega #4)</td><td>4.27</td><td>21166</td></tr>",
                            "<tr><td>Patricia Briggs</td><td>River Marked (Mercy Thompson, #6)</td><td>4.26</td><td>21166</td></tr>",
                            "<tr><td>Ted Andrews, Winston Allen, Margaret K. Andrews</td><td>Animal-Speak: The Spiritual &amp; Magical Powers of Creatures Great &amp; Small</td><td>4.25</td><td>21166</td></tr>",
                            "<tr><td>Joseph Boyden</td><td>The Orenda</td><td>4.24</td><td>21166</td></tr>",
                            "</table>"
                        ]
                    }
                }
            ],
            "execution_count": 57
        },
        {
            "cell_type": "code",
            "source": [
                ""
            ],
            "metadata": {
                "azdata_cell_guid": "3aaae3a8-eff7-4b37-8970-2d913a67239b",
                "language": "sql"
            },
            "outputs": [
                {
                    "output_type": "display_data",
                    "data": {
                        "text/html": "Commands completed successfully."
                    },
                    "metadata": {}
                },
                {
                    "output_type": "display_data",
                    "data": {
                        "text/html": "Total execution time: 00:00:00"
                    },
                    "metadata": {}
                }
            ],
            "execution_count": 58
        },
        {
            "cell_type": "markdown",
            "source": [
                "### **Summary of event 2:**\n",
                "\n",
                "During Indigenous People's Day, I think we should showcase the Mercy Thompson series because it features a Native American main character. We can showcase folktales from other Native American tribes from around the United States, particularly in the area."
            ],
            "metadata": {
                "azdata_cell_guid": "99d518dc-cd8b-42d6-9a9d-708771c9aa99"
            },
            "attachments": {}
        }
    ]
}